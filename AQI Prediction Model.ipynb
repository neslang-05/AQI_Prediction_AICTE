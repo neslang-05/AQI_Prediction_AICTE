{
 "cells": [
  {
   "cell_type": "markdown",
   "id": "90613872-108b-499f-b04d-c2946e5f4018",
   "metadata": {},
   "source": [
    "# AQI Index Prediction Model"
   ]
  },
  {
   "cell_type": "markdown",
   "id": "df6a9480-f3ae-4464-b269-9e15eb178bb5",
   "metadata": {},
   "source": [
    "- PM2.5 PM10\n",
    "- NO, NO2\n",
    "- NH3 - Ammonia\n",
    "- CO\n",
    "- So2\n",
    "- O3\n",
    "- Benzene, Toulene, Xylene"
   ]
  },
  {
   "cell_type": "code",
   "execution_count": null,
   "id": "72479821-3008-4d97-8a3b-259babef9cd7",
   "metadata": {},
   "outputs": [],
   "source": [
    "# Importing necessary libraries\n",
    "import numpy as np\n",
    "import pandas as pd\n",
    "import matplotlib.pyplot as plt\n",
    "import seaborn as sns\n",
    "from warnings import filterwarnings\n",
    "filterwarnings('ignore')"
   ]
  },
  {
   "cell_type": "code",
   "execution_count": null,
   "id": "77f32ca7-8b30-4735-b0e3-65d9442af7f9",
   "metadata": {},
   "outputs": [],
   "source": [
    "df = pd.read_csv('data_set.csv')\n",
    "df.head() #Top 5 rows"
   ]
  },
  {
   "cell_type": "code",
   "execution_count": null,
   "id": "198cc07f-5720-4e3b-9f6d-55381a146983",
   "metadata": {},
   "outputs": [],
   "source": [
    "# Shape - rows and cols\n",
    "df.shape"
   ]
  },
  {
   "cell_type": "code",
   "execution_count": null,
   "id": "808be1c0-477e-4055-938c-c09ee208aa30",
   "metadata": {},
   "outputs": [],
   "source": [
    "# Information \n",
    "df.info()"
   ]
  },
  {
   "cell_type": "code",
   "execution_count": null,
   "id": "4b4c99b5-ec46-481c-b59f-0bd92512c58c",
   "metadata": {},
   "outputs": [],
   "source": [
    "# To know the duplicate values\n",
    "df.duplicated().sum()"
   ]
  },
  {
   "cell_type": "code",
   "execution_count": null,
   "id": "1cc99174-da2a-4761-8ee8-4952e9b5d488",
   "metadata": {},
   "outputs": [],
   "source": [
    "# TO check  missing values"
   ]
  },
  {
   "cell_type": "code",
   "execution_count": null,
   "id": "07bf93cf-80e7-41d5-853a-9896458af909",
   "metadata": {},
   "outputs": [],
   "source": [
    "df.isnull().sum()"
   ]
  },
  {
   "cell_type": "code",
   "execution_count": null,
   "id": "15c4db87-0730-4c99-a350-1952259c0f2c",
   "metadata": {},
   "outputs": [],
   "source": [
    "# Drop the rows where the \"AQI' has missing values\n",
    "df.dropna(subset=['AQI'],inplace = True)"
   ]
  },
  {
   "cell_type": "code",
   "execution_count": null,
   "id": "4079bff9-ea67-42c7-b422-87df23bc951e",
   "metadata": {},
   "outputs": [],
   "source": [
    "df.isnull().sum().sort_values(ascending=False)"
   ]
  },
  {
   "cell_type": "code",
   "execution_count": null,
   "id": "e624cc83-8945-462e-9b01-e768b9595654",
   "metadata": {},
   "outputs": [],
   "source": [
    "df.shape"
   ]
  },
  {
   "cell_type": "code",
   "execution_count": null,
   "id": "12ce75f6-b32b-489d-acd7-b1a6a0a551a8",
   "metadata": {},
   "outputs": [],
   "source": [
    "#Summary of statictics of in thr dataset\n",
    "df.describe().T"
   ]
  },
  {
   "cell_type": "markdown",
   "id": "761ebb10-b838-47c7-8ba3-2d742c4589c1",
   "metadata": {},
   "source": [
    "### Percentage of the null values"
   ]
  },
  {
   "cell_type": "code",
   "execution_count": null,
   "id": "8d6dc8ec-1c13-4f98-8d77-1e4db88ae2b6",
   "metadata": {},
   "outputs": [],
   "source": [
    "null_values_percentage = (df.isnull().sum() / df.isnull().count() * 100).sort_values(ascending=False)\n",
    "null_values_percentage"
   ]
  },
  {
   "cell_type": "markdown",
   "id": "5bfdac1b-46db-4218-ad53-9e945677d65b",
   "metadata": {},
   "source": [
    "#### Xylene has the highest percentage of missing \n",
    " - Xylene has the highest percentage of missing values - 61.86%\n",
    " - PM10 and NH3 28 - 26\n"
   ]
  }
 ],
 "metadata": {
  "kernelspec": {
   "display_name": "Python 3",
   "language": "python",
   "name": "python3"
  },
  "language_info": {
   "codemirror_mode": {
    "name": "ipython",
    "version": 3
   },
   "file_extension": ".py",
   "mimetype": "text/x-python",
   "name": "python",
   "nbconvert_exporter": "python",
   "pygments_lexer": "ipython3",
   "version": "3.12.0"
  }
 },
 "nbformat": 4,
 "nbformat_minor": 5
}
